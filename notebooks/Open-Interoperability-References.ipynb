{
 "cells": [
  {
   "cell_type": "markdown",
   "metadata": {},
   "source": [
    "# Interoperability for Team Collaborations\n",
    "Be grateful and generous with your time to ensure you know the citation preferences of the colleagues this research depends on. \n",
    "Respect the generosity of others when they share ideas, and make sure to do your part to contribute and cover the true costs. \n",
    "\n",
    "Case Study: \n",
    "Skagit Watershed mulit-stakeholder collaboration using HydroShare data repository to publish ongoing DHSVM modeling experiments, with online access to computational resources (XSEDE platform; federally funded) with sharing for individual contributing projects (National Science Foundation, State of Washington, tribal and local funding).\n",
    "\n",
    "##### Table of Skagit DHSVM Landlab Landslide Workspaces & Resources\n",
    "This notebook is organized as an outline listing specific project and software dependencies that may be of interest to different collaborators. Choose your own deep diving data adventure!\n",
    "\n",
    "1. Model Simulations with Case Study example uses\n",
    "2. Online Software Environment\n",
    "3. Citation management (Zotero)\n",
    "4. CF Compliant Attributes (netcdf, Python, Xarray, (optional: metpy, crs))\n",
    "5. Citations: xarray ... tbd\n",
    "6. Licensing Agreements and Partner Collaborations\n"
   ]
  },
  {
   "cell_type": "markdown",
   "metadata": {},
   "source": [
    "### 1. Model Simulations with Case Study example uses\n",
    "\n",
    "Skagit Watershed description...so many models...\n",
    "\n",
    "### 2. Online Software Environment \n",
    "\n",
    "[Geoweaver](https://esipfed.github.io/Geoweaver/)  \\\n",
    "[Geoweaver for Watermesh](https://www.hydroshare.org/resource/40b3fbf0057644fab59d463b8c6311c5/) \n",
    "\n",
    "Hydroshare\\\n",
    "CyberGIS for Water\\\n",
    "Qiqochat\\\n",
    "Slack\\\n",
    "Github\\\n",
    "Waterhackweek CyberTraining"
   ]
  },
  {
   "cell_type": "markdown",
   "metadata": {},
   "source": [
    "### 3. Citation management"
   ]
  },
  {
   "cell_type": "markdown",
   "metadata": {},
   "source": [
    "# [Slippery Future Zotero Group Library](https://www.zotero.org/groups/2324777/slippery_future)\n",
    "Work in progress: This is an open public group library containing references, software, and versioning information used in the 'Forcing SUMMA paper'."
   ]
  },
  {
   "cell_type": "markdown",
   "metadata": {},
   "source": [
    "3. Citations for software and versions used\n",
    "\n",
    "Notebooks that use this version: 1. ashleysamazingnotebookX.ipynb"
   ]
  },
  {
   "cell_type": "markdown",
   "metadata": {},
   "source": [
    "# xarray\n",
    "\n",
    "[How should I cite xarray?](http://xarray.pydata.org/en/stable/faq.html)\n",
    "If you are using xarray and would like to cite it in academic publication, we would certainly appreciate it. We recommend two citations.\n",
    "\n",
    "At a minimum, we recommend citing the xarray overview journal article, published in the Journal of Open Research Software.\n",
    "\n",
    "Hoyer, S. & Hamman, J., (2017). xarray: N-D labeled Arrays and Datasets in Python. Journal of Open Research Software. 5(1), p.10. DOI: http://doi.org/10.5334/jors.148\n",
    "\n",
    "Here’s an example of a BibTeX entry:"
   ]
  },
  {
   "cell_type": "markdown",
   "metadata": {},
   "source": [
    "@article{hoyer2017xarray,\n",
    "  title     = {xarray: {N-D} labeled arrays and datasets in {Python}},\n",
    "  author    = {Hoyer, S. and J. Hamman},\n",
    "  journal   = {Journal of Open Research Software},\n",
    "  volume    = {5},\n",
    "  number    = {1},\n",
    "  year      = {2017},\n",
    "  publisher = {Ubiquity Press},\n",
    "  doi       = {10.5334/jors.148},\n",
    "  url       = {http://doi.org/10.5334/jors.148}\n",
    "}"
   ]
  },
  {
   "cell_type": "code",
   "execution_count": 5,
   "metadata": {},
   "outputs": [
    {
     "data": {
      "text/plain": [
       "'0.16.0'"
      ]
     },
     "execution_count": 5,
     "metadata": {},
     "output_type": "execute_result"
    }
   ],
   "source": [
    "import xarray\n",
    "xarray.__version__"
   ]
  },
  {
   "cell_type": "markdown",
   "metadata": {},
   "source": [
    "Here is the badge for pydata/xarray: v0.16.0\n",
    "    \n",
    "[![DOI](https://zenodo.org/badge/DOI/10.5281/zenodo.3940662.svg)](https://doi.org/10.5281/zenodo.3940662)\n",
    "\n",
    "Stephan Hoyer, Joe Hamman, Maximilian Roos, Deepak Cherian, Clark Fitzgerald, Keisuke Fujii, … johnomotani. (2020, July 11). pydata/xarray: v0.16.0 (Version v0.16.0). Zenodo. http://doi.org/10.5281/zenodo.3940662"
   ]
  },
  {
   "cell_type": "code",
   "execution_count": null,
   "metadata": {},
   "outputs": [],
   "source": []
  },
  {
   "cell_type": "code",
   "execution_count": null,
   "metadata": {},
   "outputs": [],
   "source": []
  },
  {
   "cell_type": "code",
   "execution_count": null,
   "metadata": {},
   "outputs": [],
   "source": []
  },
  {
   "cell_type": "code",
   "execution_count": null,
   "metadata": {},
   "outputs": [],
   "source": []
  },
  {
   "cell_type": "markdown",
   "metadata": {},
   "source": [
    "# Software used \n",
    "\n",
    "Landlab kernel on CyberGIS for Water"
   ]
  },
  {
   "cell_type": "code",
   "execution_count": 1,
   "metadata": {},
   "outputs": [
    {
     "name": "stdout",
     "output_type": "stream",
     "text": [
      "Today's date: 2020-09-04\n"
     ]
    }
   ],
   "source": [
    "from datetime import date\n",
    "today = date.today()\n",
    "print(\"Today's date:\", today)"
   ]
  },
  {
   "cell_type": "code",
   "execution_count": 2,
   "metadata": {},
   "outputs": [
    {
     "name": "stdout",
     "output_type": "stream",
     "text": [
      "environ({'CPU_GUARANTEE': '0.1', 'MINICONDA_VERSION': '4.7.10', 'LANGUAGE': 'en_US.UTF-8', 'HOSTNAME': '10374b0db0d3', 'JUPYTERHUB_HOST': '', 'JUPYTERHUB_USER': 'christinabandaragoda', 'SHLVL': '0', 'XDG_CACHE_HOME': '/home/jovyan/.cache/', 'HS_AUTH_SOURCE': 'spawner', 'HOME': '/home/jovyan', 'CONDA_VERSION': '4.7.12', 'JUPYTERHUB_API_URL': 'http://6fb3879035f2:8081/hub/api', 'JUPYTERHUB_OAUTH_CALLBACK_URL': '/user/christinabandaragoda/oauth_callback', 'FC': 'gfortran', 'INCLUDES': '-I/usr/include', 'NB_USER': 'jovyan', 'LIBRARIES': '-L/usr/lib -lnetcdff -L/usr/lib -lblas -llapack', 'XSEDE_KEY_PATH': '/home/cybergis/.xsede-gateway-attributes-apikey-cjw', 'JUPYTERHUB_CLIENT_ID': 'jupyterhub-user-christinabandaragoda', 'FC_EXE': 'gfortran', 'PATH': '/opt/conda/bin:/usr/local/sbin:/usr/local/bin:/usr/sbin:/usr/bin:/sbin:/bin', 'JUPYTERHUB_ACTIVITY_URL': 'http://6fb3879035f2:8081/hub/api/users/christinabandaragoda/activity', 'MEM_LIMIT': '8589934592', 'NB_GID': '100', 'LANG': 'en_US.UTF-8', 'DEBIAN_FRONTEND': 'noninteractive', 'CPU_LIMIT': '2.0', 'SHELL': '/bin/bash', 'F_MASTER': '/tmp/summa', 'JUPYTERHUB_ADMIN_ACCESS': '1', 'CONDA_DIR': '/opt/conda', 'JUPYTERHUB_SERVICE_PREFIX': '/user/christinabandaragoda/', 'HS_AUTH': '[{\"access_token\": \"np8aqZ37YrU47xhe0RNs6FRMuavkyA\", \"refresh_token\": \"IpXcTGVgptdMZOyQRlyUa72iuQXHhF\", \"oauth_user\": {\"username\": \"ChristinaBandaragoda\", \"email\": \"cband@uw.edu\", \"first_name\": \"Christina\", \"id\": 259, \"last_name\": \"Bandaragoda\", \"title\": \"Senior Research Scientist\", \"organization\": \"University of Washington\"}, \"scope\": \"read write\", \"expires_in\": 2592000, \"token_type\": \"Bearer\"}, \"gTxS2TgfSpOFfwzkB38Gg6KNWwb35HNbTh04RwK2\"]', 'LC_ALL': 'en_US.UTF-8', 'PROJ_LIB': '/opt/conda/share/proj', 'PWD': '/home/jovyan', 'JUPYTERHUB_API_TOKEN': '8aa37c05a88c4ebd9c291f4d4ba3a6f7', 'JUPYTERHUB_BASE_URL': '/', 'JUPYTERHUB_SERVER_NAME': '', 'MEM_GUARANTEE': '268435456', 'NB_UID': '1000', 'JPY_API_TOKEN': '8aa37c05a88c4ebd9c291f4d4ba3a6f7', 'GDAL_DATA': '/opt/conda/share/gdal', 'MINICONDA_MD5': '1c945f2b3335c7b2b15130b1b2dc5cf4', 'KERNEL_LAUNCH_TIMEOUT': '40', 'JPY_PARENT_PID': '6', 'TERM': 'xterm-color', 'CLICOLOR': '1', 'PAGER': 'cat', 'GIT_PAGER': 'cat', 'MPLBACKEND': 'module://ipykernel.pylab.backend_inline'})\n"
     ]
    }
   ],
   "source": [
    "import os\n",
    "print(os.environ)"
   ]
  },
  {
   "cell_type": "code",
   "execution_count": 3,
   "metadata": {},
   "outputs": [
    {
     "name": "stdout",
     "output_type": "stream",
     "text": [
      "alembic==1.4.2\n",
      "appdirs==1.4.4\n",
      "async-generator==1.10\n",
      "attrs==19.3.0\n",
      "backcall @ file:///home/conda/feedstock_root/build_artifacts/backcall_1592338393461/work\n",
      "backports.functools-lru-cache==1.6.1\n",
      "beautifulsoup4==4.8.1\n",
      "black==20.8b1\n",
      "bleach @ file:///home/conda/feedstock_root/build_artifacts/bleach_1588608214987/work\n",
      "blinker==1.4\n",
      "bmipy==2.0\n",
      "bokeh==1.3.4\n",
      "brotlipy==0.7.0\n",
      "certifi==2020.6.20\n",
      "certipy==0.1.3\n",
      "cffi @ file:///home/conda/feedstock_root/build_artifacts/cffi_1595805535531/work\n",
      "cftime==1.2.1\n",
      "chardet==3.0.4\n",
      "click==7.1.2\n",
      "cloudpickle==1.2.2\n",
      "conda==4.7.12\n",
      "conda-package-handling @ file:///home/conda/feedstock_root/build_artifacts/conda-package-handling-build_1597341279120/work/cph\n",
      "cryptography @ file:///home/conda/feedstock_root/build_artifacts/cryptography_1595348769214/work\n",
      "cycler==0.10.0\n",
      "Cython==0.29.14\n",
      "cytoolz==0.10.1\n",
      "dask==2.2.0\n",
      "decorator==4.4.2\n",
      "defusedxml==0.6.0\n",
      "dill==0.3.1.1\n",
      "distributed==2.5.2\n",
      "entrypoints==0.3\n",
      "fastcache==1.1.0\n",
      "fsspec @ file:///home/conda/feedstock_root/build_artifacts/fsspec_1596221475257/work\n",
      "GDAL==2.4.2\n",
      "gmpy2==2.1.0b1\n",
      "h5py==2.9.0\n",
      "HeapDict==1.0.1\n",
      "hs-restclient==1.3.7\n",
      "idna @ file:///home/conda/feedstock_root/build_artifacts/idna_1593328102638/work\n",
      "imageio @ file:///home/conda/feedstock_root/build_artifacts/imageio_1594044661732/work\n",
      "importlib-metadata @ file:///home/conda/feedstock_root/build_artifacts/importlib-metadata_1593211369179/work\n",
      "ipykernel @ file:///home/conda/feedstock_root/build_artifacts/ipykernel_1595446871027/work/dist/ipykernel-5.3.4-py3-none-any.whl\n",
      "ipython @ file:///home/conda/feedstock_root/build_artifacts/ipython_1596256318236/work\n",
      "ipython-genutils==0.2.0\n",
      "ipywidgets==7.5.1\n",
      "jedi==0.15.2\n",
      "Jinja2==2.11.2\n",
      "joblib @ file:///home/conda/feedstock_root/build_artifacts/joblib_1593624380152/work\n",
      "json5 @ file:///home/conda/feedstock_root/build_artifacts/json5_1591810480056/work\n",
      "jsonschema==3.2.0\n",
      "jupyter-client @ file:///home/conda/feedstock_root/build_artifacts/jupyter_client_1594732094290/work\n",
      "jupyter-contrib-core==0.3.3\n",
      "jupyter-contrib-nbextensions @ git+https://github.com/Castronova/jupyter_contrib_nbextensions.git@15a772ef5510693f7fa0de8ae0e27a670ff77e35\n",
      "jupyter-core==4.6.3\n",
      "jupyter-highlight-selected-word==0.2.0\n",
      "jupyter-latex-envs==1.4.6\n",
      "jupyter-nbextensions-configurator==0.4.1\n",
      "jupyterhub==1.0.0\n",
      "jupyterlab==1.2.1\n",
      "jupyterlab-server @ file:///home/conda/feedstock_root/build_artifacts/jupyterlab_server_1593951277307/work\n",
      "kiwisolver==1.2.0\n",
      "llvmlite==0.29.0\n",
      "locket==0.2.0\n",
      "Mako @ file:///home/conda/feedstock_root/build_artifacts/mako_1595925083607/work\n",
      "MarkupSafe==1.1.1\n",
      "matplotlib==3.1.2\n",
      "mistune==0.8.4\n",
      "mpmath==1.1.0\n",
      "msgpack==0.6.2\n",
      "mypy-extensions==0.4.3\n",
      "nbconvert==5.6.1\n",
      "nbfetch @ git+https://github.com/cybergis/nbfetch.git@7caa1fc87c4fc353e774dd82d2239205fa9737e8\n",
      "nbformat @ file:///home/conda/feedstock_root/build_artifacts/nbformat_1594060262917/work\n",
      "netCDF4==1.5.4\n",
      "networkx==2.4\n",
      "notebook==6.0.0\n",
      "numba==0.45.1\n",
      "numexpr==2.6.9\n",
      "numpy @ file:///home/conda/feedstock_root/build_artifacts/numpy_1595522867663/work\n",
      "nwm==0.1.2\n",
      "oauthlib==3.0.1\n",
      "olefile==0.46\n",
      "OWSLib==0.20.0\n",
      "packaging @ file:///home/conda/feedstock_root/build_artifacts/packaging_1589925210001/work\n",
      "pamela==1.0.0\n",
      "pandas==0.25.3\n",
      "pandocfilters==1.4.2\n",
      "parso @ file:///home/conda/feedstock_root/build_artifacts/parso_1596584577899/work\n",
      "partd==1.1.0\n",
      "pathspec==0.8.0\n",
      "patsy==0.5.1\n",
      "pexpect==4.8.0\n",
      "pickleshare==0.7.5\n",
      "Pillow @ file:///home/conda/feedstock_root/build_artifacts/pillow_1594213010297/work\n",
      "prometheus-client @ file:///home/conda/feedstock_root/build_artifacts/prometheus_client_1590412252446/work\n",
      "prompt-toolkit @ file:///home/conda/feedstock_root/build_artifacts/prompt-toolkit_1597061474901/work\n",
      "protobuf==3.9.2\n",
      "psutil @ file:///home/conda/feedstock_root/build_artifacts/psutil_1594826921622/work\n",
      "ptyprocess==0.6.0\n",
      "pycosat==0.6.3\n",
      "pycparser @ file:///home/conda/feedstock_root/build_artifacts/pycparser_1593275161868/work\n",
      "pycurl==7.43.0.5\n",
      "Pygments==2.6.1\n",
      "PyJWT==1.7.1\n",
      "pyOpenSSL==19.1.0\n",
      "pyparsing==2.4.7\n",
      "pyproj==2.6.1.post1\n",
      "pyrsistent==0.16.0\n",
      "PySocks==1.7.1\n",
      "python-dateutil==2.8.1\n",
      "python-editor==1.0.4\n",
      "pytz==2020.1\n",
      "PyWavelets==1.1.1\n",
      "PyYAML==5.3.1\n",
      "pyzmq==19.0.2\n",
      "regex==2020.7.14\n",
      "requests @ file:///home/conda/feedstock_root/build_artifacts/requests_1592425495151/work\n",
      "requests-oauthlib==1.3.0\n",
      "requests-toolbelt==0.9.1\n",
      "ruamel-yaml==0.15.80\n",
      "scikit-image==0.15.0\n",
      "scikit-learn==0.21.3\n",
      "scipy==1.3.1\n",
      "seaborn==0.9.0\n",
      "Send2Trash==1.5.0\n",
      "six @ file:///home/conda/feedstock_root/build_artifacts/six_1590081179328/work\n",
      "sortedcontainers @ file:///home/conda/feedstock_root/build_artifacts/sortedcontainers_1591999956871/work\n",
      "soupsieve @ file:///home/conda/feedstock_root/build_artifacts/soupsieve_1589778966114/work\n",
      "SQLAlchemy==1.3.10\n",
      "statsmodels==0.10.1\n",
      "sympy==1.4\n",
      "tblib==1.6.0\n",
      "terminado==0.8.3\n",
      "testpath==0.4.4\n",
      "toml==0.10.1\n",
      "toolz==0.10.0\n",
      "tornado==6.0.4\n",
      "tqdm @ file:///home/conda/feedstock_root/build_artifacts/tqdm_1596476591553/work\n",
      "traitlets==4.3.3\n",
      "typed-ast==1.4.1\n",
      "typing-extensions==3.7.4.3\n",
      "urllib3 @ file:///home/conda/feedstock_root/build_artifacts/urllib3_1595434816409/work\n",
      "vincent==0.4.4\n",
      "wcwidth @ file:///home/conda/feedstock_root/build_artifacts/wcwidth_1595859607677/work\n",
      "webencodings==0.5.1\n",
      "widgetsnbextension @ file:///home/conda/feedstock_root/build_artifacts/widgetsnbextension_1594164347302/work\n",
      "xarray==0.16.0\n",
      "xlrd==1.2.0\n",
      "zict==2.0.0\n",
      "zipp==3.1.0\n"
     ]
    }
   ],
   "source": [
    "!pip freeze xarray"
   ]
  },
  {
   "cell_type": "markdown",
   "metadata": {},
   "source": [
    "# References"
   ]
  },
  {
   "cell_type": "markdown",
   "metadata": {},
   "source": [
    "N. Addor, A. Newman, M. Mizukami, and M. P. Clark, 2017a. Catchment attributes for large-sample studies. Boulder, CO: UCAR/NCAR. https://doi.org/10.5065/D6G73C3Q\n",
    "Addor, N., Newman, A. J., Mizukami, N. and Clark, M. P.: The CAMELS data set: catchment attributes and meteorology for large-sample studies, Hydrol. Earth Syst. Sci., 21, 5293–5313, doi:10.5194/hess-21-5293-2017, 2017b.\n",
    "\n",
    "Bennett, A. R., Hamman, J. J., and Nijssen, B.: MetSim v2.0.0: A flexible and extensible framework for the estimation and disaggregation of meteorological data, Geosci. Model Dev. Discuss., https://doi.org/10.5194/gmd-2019-179, 2019. \n",
    "\n",
    "Beven, Keith. (2019). How to make advances in hydrological modelling. Hydrology Research. 50. 10.2166/nh.2019.134.\n",
    "\n",
    "Beven K. 2019 Towards a methodology for testing models as hypotheses in the inexact sciences.Proc.R.Soc.A475: 20180862.http://dx.doi.org/10.1098/rspa.2018.0862\n",
    "\n",
    "Bohn, T. J., Livneh, B., Oyler, J. W., Running, S. W., Nijssen, B., & Lettenmaier, D. P. (2013). Global evaluation of mtclim and related algorithms for forcing of ecological and hydrological models. Agricultural and Forest Meteorology, 176, 38–49. doi:10.1016/j. Agrformet.2013.03.003\n",
    "\n",
    "Bohn, T. J., Whitney, K. M., Mascaro, G., & Vivoni, E. R. (2019). A deterministic approach for approximating the diurnal cycle of precipitation for use in large-scale hydrological modeling. Journal of Hydrometeorology, 0(0), null. doi:10.1175/JHM-D-18-0203.1\n",
    "\n",
    "Clark, M. P., B. Nijssen, J. D. Lundquist, D. Kavetski, D. E. Rupp, R. A. Woods, J. E. Freer, E. D. Gutmann, A. W. Wood, L. D. Brekke, J. R. Arnold, D. J. Gochis, R. M. Rasmussen, 2015a: A unified approach for process-based hydrologic modeling: Part 1. Modeling concept. Water Resources Research, doi:10.1002/2015WR017198.\n",
    "\n",
    "Clark, M. P., B. Nijssen, J. D. Lundquist, D. Kavetski, D. E. Rupp, R. A. Woods, J. E. Freer, E. D. Gutmann, A. W. Wood, D. J. Gochis, R. M. Rasmussen, D. G. Tarboton, V. Mahat, G. N. Flerchinger, D. G. Marks, 2015b: A unified approach for process-based hydrologic modeling: Part 2. Model implementation and case studies. Water Resources Research, doi:10.1002/2015WR017200.\n",
    "\n",
    "Clark, M. P., B. Nijssen, J. D. Lundquist, D. Kavetski, D. E. Rupp, R. A. Woods, J. E. Freer, E. D. Gutmann, A. W. Wood, L. D. Brekke, J. R. Arnold, D. J. Gochis, R. M. Rasmussen, D. G. Tarboton, V. Mahat, G. N. Flerchinger, D. G. Marks, 2015c: The structure for unifying multiple modeling alternatives (SUMMA), Version 1.0: Technical Description. NCAR Technical Note NCAR/TN-514+STR, 50 pp., doi:10.5065/D6WQ01TD.\n",
    "\n",
    "Cosgrove, B.A., et al., 2003: Real-time and retrospective forcing in the North American Land Data Assimilation System (NLDAS) project.  J. Geophys. Res., 108(D22), 8842, doi:10.1029/2002JD003118.\n",
    "\n",
    "Gelati, E., Decharme, B., Calvet, J.-C., Minvielle, M., Polcher, J., Fairbairn, D., and Weedon, G. P.: Hydrological assessment of atmospheric forcing uncertainty in the Euro-Mediterranean area using a land surface model, Hydrol. Earth Syst. Sci., 22, 2091–2115, https://doi.org/10.5194/hess-22-2091-2018, 2018. \n",
    "\n",
    "Ghatak, D.; Zaitchik, B.; Kumar, S.; Matin, M.A.; Bajracharya, B.; Hain, C.; Anderson, M. Influence of Precipitation Forcing Uncertainty on Hydrological Simulations with the NASA South Asia Land Data Assimilation System. Hydrology 2018, 5, 57.\t \t \t \n",
    "\n",
    "Hoshin V. Gupta, Harald Kling, Koray K. Yilmaz, Guillermo F. Martinez. Decomposition of the mean squared error and NSE performance criteria: Implications for improving hydrological modelling. Journal of Hydrology, Volume 377, Issues 1-2, 20 October 2009, Pages 80-91. DOI: 10.1016/j.jhydrol.2009.08.003. ISSN 0022-1694\n",
    "\n",
    "Kato, H.; Rodell, M.; Beyrich, F.; Cleugh, H.; van Gorsel, E.; Liu, H.; Meyers, T.P. Sensitivity of land surface simulations to model physics, land characteristics, and forcings, at four CEOP Sites. J. Meteorol. Soc. Jpn. 2007, 87A, 187–204. [CrossRef]\n",
    "\n",
    "Liang, X., Lettenmaier, D.P., Wood, E.F., Burges, S.J., 1994. A simple hydrologically based model of land surface water and energy fluxes for GSMs. J. Geophys. Res. 99 (D7), 14,415–14,428, http://dx.doi.org/10.1029/94JD00483.\n",
    "\n",
    "Liu, Xingcai & Zhang, Xuejun & Tang, Qiuhong & Zhang, Xuezhen. (2014). Effects of surface wind speed decline on modeled hydrological conditions in China. Hydrology and Earth System Sciences. 18. 2803-2813. 10.5194/hess-18-2803-2014.\n",
    "\n",
    "Magnusson, J., Wever, N., Essery, R., Helbig, N., Winstral, A., andJonas, T.: Evaluating snow models with varying process repre-sentations for hydrological applications, Water Resour. Res., 51,2707–2723, doi:10.1002/2014WR016498, 2015.\n",
    "\n",
    "McVicar, T.R., Jupp, D.L.B., 1999. Estimating one-time-of-day meteorological data from standard daily data as inputs to thermal remote sensing based energy balance models. Agric. For. Meteorol. 96 (4), 219–238, http://dx.doi.org/10.1016/S0168-1923(99)00052-0.\n",
    "\n",
    "Newman, A. J., M.P. Clark, K. Sampson, A.W. Wood, L.E. Hay, A. Bock, R.J. Viger, D. Blodgett, L. Brekke, J.R. Arnold, T. Hopson, and Q. Duan, 2015: Development of a large-sample watershed-scale hydrometeorological data set for the contiguous USA: data set characteristics and assessment of regional variability in hydrologic model performance. Hydrology and Earth System Sciences,19, 209-223, doi:10.5194/hess-19-209-2015\n",
    "\n",
    "Prata, A.J., 1996. A new long‐wave formula for estimating downward clear‐sky radiation at the surface. Quarterly Journal of the Royal Meteorological Society, 122(533), pp.1127-1151.\n",
    "\n",
    "Raleigh, M. S., Lundquist, J. D., and Clark, M. P.: Exploring the impact of forcing error characteristics on physically based snow simulations within a global sensitivity analysis framework, Hydrol. Earth Syst. Sci., 19, 3153–3179, https://doi.org/10.5194/hess-19-3153-2015, 2015. \n",
    "\n",
    "Sperna Weiland, Frederiek & Vrugt, Jasper & Beek, R.L.P.H & Weerts, Albrecht & Bierkens, M.F.P.. (2015). Significant uncertainty in global scale hydrological modeling from precipitation data errors. Journal of Hydrology. 529. 10.1016/j.jhydrol.2015.08.061.\n",
    "\n",
    "Thornton, P.E., Hasenauer, H., White, M.A., 2000. Simultaneous estimation of daily solar radiation and humidity from observed temperature and precipitation: an application over complex terrain in Austria. Agric. For. Meteorol. 104 (4), 255–271, http://dx.doi.org/10.1016/S0168-1923(00)00170-2.\n",
    "\n",
    "Waichler, S.R. and Wigmosta, M.S., 2003. Development of hourly meteorological values from daily data and significance to hydrological modeling at HJ Andrews Experimental Forest. Journal of Hydrometeorology, 4(2), pp.251-263.\n",
    "\n",
    "Zaitchik, B.F.; Rodell, M.; Olivera, F. Evaluation of the Global Land Data Assimilation System using global river discharge data and a Source-to-Sink routing scheme. Water Resour. Res. 2010, 46, W06507.\n",
    "\n"
   ]
  },
  {
   "attachments": {
    "image.png": {
     "image/png": "[encoded data removed]"
    }
   },
   "cell_type": "markdown",
   "metadata": {},
   "source": [
    "# [References - Bibtex](SlipperyFuture-ZenodoExported-20200724.bib)\n",
    "Click here and you will have the option to import to your Zotero account. \n",
    "![image.png](attachment:image.png)"
   ]
  },
  {
   "cell_type": "markdown",
   "metadata": {},
   "source": [
    "2. Netcdf file format attribute template for the project. This must sync with references in Zotero. "
   ]
  },
  {
   "cell_type": "code",
   "execution_count": null,
   "metadata": {},
   "outputs": [],
   "source": [
    "def netcdf_set_SlipperyFuture_attributes(data):\n",
    "    \n",
    "    data.attrs['institution']='University of Washington; Seattle City Light'\n",
    "    data.attrs['title']='Skagit DHSVM Model (2019)'\n",
    "    data.attrs['subtitle']='historic'\n",
    "    data.attrs['summary']='Abstract'\n",
    "    data.attrs['references']=''\n",
    "    data.attrs['license']=''\n",
    "    data.attrs['comment']='Slippery Future'\n",
    "    data.attrs['source']='https://www.hydroshare.org/resource/01b486f301864828ba2cd9ab7ac77c4e/data/contents/DHSVM/output_SCLlandslide_historic/Map.Soil.TableDepth.asc'\n",
    "    #keywords (ACDD)\n",
    "    #missing_value (CF)\n",
    "    return data\n",
    "\n",
    "def netcdf_set_SCL_attributes(data):\n",
    "    \n",
    "    data.attrs['time_coverage_start']=''\n",
    "    data.attrs['time_coverage_end']=''\n",
    "    data.attrs['geospatial_lat_max']=''\n",
    "    data.attrs['geospatial_lat_min']=''\n",
    "    data.attrs['geospatial_lon_max']=''\n",
    "    data.attrs['geospatial_lon_min']=''\n",
    "    #grid_mapping_name (CF)  Spatial Reference: coordinate reference system\n",
    "    #Spatial Reference: Coordinate String, Coordinate String Type, Datum\n",
    "    #attributes for grid mapping variable (CF)\n",
    "    return data\n",
    "\n",
    "def netcdf_set_GoodellCreek_attributes(data):\n",
    "    \n",
    "    data.attrs['time_coverage_start']=''\n",
    "    data.attrs['time_coverage_end']=''\n",
    "    data.attrs['geospatial_lat_max']=''\n",
    "    data.attrs['geospatial_lat_min']=''\n",
    "    data.attrs['geospatial_lon_max']=''\n",
    "    data.attrs['geospatial_lon_min']=''\n",
    "    #grid_mapping_name (CF)  Spatial Reference: coordinate reference system\n",
    "    #Spatial Reference: Coordinate String, Coordinate String Type, Datum\n",
    "    #attributes for grid mapping variable (CF)\n",
    "    return data\n",
    "\n",
    "def netcdf_set_modelvar_attributes(data):\n",
    "    \n",
    "    data.attrs['subtitle']='historic'\n",
    "    data.attrs['units']='m'\n",
    "    data.attrs['standard_name'] = 'depth' # this is a CF standard name 'Depth is the vertical distance below the surface.'\n",
    "    data.attrs['long_name']='depth to water table from surface elevation'\n",
    "    data.attrs['creator_name']=''\n",
    "    data.attrs['creator_url']=''\n",
    "    data.attrs['creator_email']=''\n",
    "    data.attrs['contributor_name']=''\n",
    "    data.attrs['time_coverage_start']=''\n",
    "    data.attrs['time_coverage_end']=''\n",
    "    data.attrs['geospatial_lat_max']=''\n",
    "    data.attrs['geospatial_lat_min']=''\n",
    "    data.attrs['geospatial_lon_max']=''\n",
    "    data.attrs['geospatial_lon_min']=''\n",
    "    data.attrs['summary']='Abstract'\n",
    "    data.attrs['references']=''\n",
    "    data.attrs['license']=''\n",
    "    data.attrs['comment']='Slippery Future'\n",
    "    data.attrs['source']='https://www.hydroshare.org/resource/01b486f301864828ba2cd9ab7ac77c4e/data/contents/DHSVM/output_SCLlandslide_historic/Map.Soil.TableDepth.asc'\n",
    "    #keywords (ACDD)\n",
    "    #missing_value (CF)\n",
    "    #grid_mapping_name (CF)  Spatial Reference: coordinate reference system\n",
    "    #Spatial Reference: Coordinate String, Coordinate String Type, Datum\n",
    "    #attributes for grid mapping variable (CF)\n",
    "    return data"
   ]
  }
 ],
 "metadata": {
  "kernelspec": {
   "display_name": "LANDLAB",
   "language": "python",
   "name": "landlab"
  },
  "language_info": {
   "codemirror_mode": {
    "name": "ipython",
    "version": 3
   },
   "file_extension": ".py",
   "mimetype": "text/x-python",
   "name": "python",
   "nbconvert_exporter": "python",
   "pygments_lexer": "ipython3",
   "version": "3.7.8"
  }
 },
 "nbformat": 4,
 "nbformat_minor": 4
}
